{
 "cells": [
  {
   "cell_type": "code",
   "execution_count": 1,
   "id": "8a86e4e8-0659-4f35-b049-ae4234bf3737",
   "metadata": {},
   "outputs": [
    {
     "ename": "ValueError",
     "evalue": "The truth value of an array with more than one element is ambiguous. Use a.any() or a.all()",
     "output_type": "error",
     "traceback": [
      "\u001b[0;31m---------------------------------------------------------------------------\u001b[0m",
      "\u001b[0;31mValueError\u001b[0m                                Traceback (most recent call last)",
      "Cell \u001b[0;32mIn[1], line 8\u001b[0m\n\u001b[1;32m      5\u001b[0m params \u001b[38;5;241m=\u001b[39m GaussianParameters(mu\u001b[38;5;241m=\u001b[39m\u001b[38;5;241m3.0\u001b[39m, sigma\u001b[38;5;241m=\u001b[39m\u001b[38;5;241m1.0\u001b[39m)\n\u001b[1;32m      6\u001b[0m fit \u001b[38;5;241m=\u001b[39m GaussianFit(observables\u001b[38;5;241m=\u001b[39mobservables, error\u001b[38;5;241m=\u001b[39m\u001b[38;5;241m0.5\u001b[39m, params\u001b[38;5;241m=\u001b[39mparams)\n\u001b[0;32m----> 8\u001b[0m \u001b[38;5;28;01mif\u001b[39;00m fit\u001b[38;5;241m.\u001b[39mcheck_condition():\n\u001b[1;32m      9\u001b[0m     \u001b[38;5;28mprint\u001b[39m(fit\u001b[38;5;241m.\u001b[39mcheck_condition())\n\u001b[1;32m     10\u001b[0m     \u001b[38;5;28mprint\u001b[39m(\u001b[38;5;124m\"\u001b[39m\u001b[38;5;124mThe equation is satisfied for the given observables, mu, sigma, and error.\u001b[39m\u001b[38;5;124m\"\u001b[39m)\n",
      "\u001b[0;31mValueError\u001b[0m: The truth value of an array with more than one element is ambiguous. Use a.any() or a.all()"
     ]
    }
   ],
   "source": [
    "import numpy as np\n",
    "from mlhep.gaussian import GaussianFit, GaussianParameters\n",
    "\n",
    "observables = np.array([-1, 0, 1])\n",
    "params = GaussianParameters(mu=3.0, sigma=1.0)\n",
    "fit = GaussianFit(observables=observables, error=0.5, params=params)\n",
    "\n",
    "if fit.check_condition():\n",
    "    print(\"The equation is satisfied.\")\n",
    "else:\n",
    "    print(\"The equation is not satisfied.\")"
   ]
  },
  {
   "cell_type": "code",
   "execution_count": 3,
   "id": "ed70747b",
   "metadata": {},
   "outputs": [],
   "source": [
    "import numpy as np\n",
    "from mlhep.gaussian import GaussianFit, GaussianParameters\n",
    "\n",
    "observables = np.array([-1, 0, 1])\n",
    "params = GaussianParameters(mu=3.0, sigma=1.0)\n",
    "fit = GaussianFit(observables=observables, error=0.5, params=params)\n",
    "\n",
    "a = fit.check_condition()"
   ]
  },
  {
   "cell_type": "code",
   "execution_count": null,
   "id": "c70e45c8",
   "metadata": {},
   "outputs": [],
   "source": []
  }
 ],
 "metadata": {
  "kernelspec": {
   "display_name": "Python 3 (ipykernel)",
   "language": "python",
   "name": "python3"
  },
  "language_info": {
   "codemirror_mode": {
    "name": "ipython",
    "version": 3
   },
   "file_extension": ".py",
   "mimetype": "text/x-python",
   "name": "python",
   "nbconvert_exporter": "python",
   "pygments_lexer": "ipython3",
   "version": "3.10.12"
  }
 },
 "nbformat": 4,
 "nbformat_minor": 5
}
