{
 "cells": [
  {
   "cell_type": "code",
   "execution_count": 1,
   "id": "8a86e4e8-0659-4f35-b049-ae4234bf3737",
   "metadata": {},
   "outputs": [
    {
     "name": "stdout",
     "output_type": "stream",
     "text": [
      "The equation is not satisfied.\n"
     ]
    }
   ],
   "source": [
    "import numpy as np\n",
    "from mlhep.gaussian import GaussianFit, GaussianParameters\n",
    "\n",
    "observables = np.array([-1, 0, 1])\n",
    "params = GaussianParameters(mu=3.0, sigma=1.0)\n",
    "fit = GaussianFit(observables=observables, error=0.5, params=params)\n",
    "\n",
    "if fit.check_condition():\n",
    "    print(\"The equation is satisfied.\")\n",
    "else:\n",
    "    print(\"The equation is not satisfied.\")"
   ]
  },
  {
   "cell_type": "code",
   "execution_count": null,
   "id": "c70e45c8",
   "metadata": {},
   "outputs": [],
   "source": []
  }
 ],
 "metadata": {
  "kernelspec": {
   "display_name": "Python 3 (ipykernel)",
   "language": "python",
   "name": "python3"
  },
  "language_info": {
   "codemirror_mode": {
    "name": "ipython",
    "version": 3
   },
   "file_extension": ".py",
   "mimetype": "text/x-python",
   "name": "python",
   "nbconvert_exporter": "python",
   "pygments_lexer": "ipython3",
   "version": "3.10.12"
  }
 },
 "nbformat": 4,
 "nbformat_minor": 5
}
